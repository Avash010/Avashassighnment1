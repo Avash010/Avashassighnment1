{
 "cells": [
  {
   "cell_type": "code",
   "execution_count": null,
   "id": "005a6f5b-e6b2-45bf-bfc7-6fd04218786e",
   "metadata": {},
   "outputs": [],
   "source": [
    "#Q1. Create one variable containing following type of data:"
   ]
  },
  {
   "cell_type": "code",
   "execution_count": 1,
   "id": "bd39d7d3-4b68-4417-ade7-95d9592b1d56",
   "metadata": {},
   "outputs": [],
   "source": [
    "a = \"Avash\""
   ]
  },
  {
   "cell_type": "code",
   "execution_count": 2,
   "id": "3774cf47-0528-4901-a472-08aa11e84d2c",
   "metadata": {},
   "outputs": [
    {
     "data": {
      "text/plain": [
       "str"
      ]
     },
     "execution_count": 2,
     "metadata": {},
     "output_type": "execute_result"
    }
   ],
   "source": [
    "type(a)"
   ]
  },
  {
   "cell_type": "code",
   "execution_count": 3,
   "id": "b3e1c885-e2b0-4945-9fc9-046289b03055",
   "metadata": {},
   "outputs": [],
   "source": [
    "l = [1,2,3,\"Avash\",24.32,False]"
   ]
  },
  {
   "cell_type": "code",
   "execution_count": 4,
   "id": "d4a3e9b1-af8c-40eb-8572-2e29f2e16a6f",
   "metadata": {},
   "outputs": [
    {
     "data": {
      "text/plain": [
       "list"
      ]
     },
     "execution_count": 4,
     "metadata": {},
     "output_type": "execute_result"
    }
   ],
   "source": [
    "type(l)"
   ]
  },
  {
   "cell_type": "code",
   "execution_count": 5,
   "id": "acc63cbd-6b66-48e5-bd6c-7fa8465e90de",
   "metadata": {},
   "outputs": [],
   "source": [
    "b = 56.87"
   ]
  },
  {
   "cell_type": "code",
   "execution_count": 6,
   "id": "8fa6a78e-1440-401c-ac76-94b877cc6625",
   "metadata": {},
   "outputs": [
    {
     "data": {
      "text/plain": [
       "float"
      ]
     },
     "execution_count": 6,
     "metadata": {},
     "output_type": "execute_result"
    }
   ],
   "source": [
    "type(b)"
   ]
  },
  {
   "cell_type": "code",
   "execution_count": 7,
   "id": "497198de-06fb-44b3-b3db-1514dae18352",
   "metadata": {},
   "outputs": [],
   "source": [
    "t=(2,3,4,False,45.64)"
   ]
  },
  {
   "cell_type": "code",
   "execution_count": 8,
   "id": "26490332-fa97-417f-89a4-e4aebda20f1b",
   "metadata": {},
   "outputs": [
    {
     "data": {
      "text/plain": [
       "tuple"
      ]
     },
     "execution_count": 8,
     "metadata": {},
     "output_type": "execute_result"
    }
   ],
   "source": [
    "type(t)"
   ]
  },
  {
   "cell_type": "code",
   "execution_count": null,
   "id": "84b59bf3-c07d-41de-b668-faab63c28d2e",
   "metadata": {},
   "outputs": [],
   "source": [
    "#Q2. What will be the data type of the above given variable:"
   ]
  },
  {
   "cell_type": "code",
   "execution_count": 9,
   "id": "b12eafcd-ff06-426a-904a-8c2e9bb85093",
   "metadata": {},
   "outputs": [],
   "source": [
    "var1 = ' '"
   ]
  },
  {
   "cell_type": "code",
   "execution_count": 10,
   "id": "c43fa850-e8cf-4b27-86ef-179854b4a2cd",
   "metadata": {},
   "outputs": [
    {
     "data": {
      "text/plain": [
       "str"
      ]
     },
     "execution_count": 10,
     "metadata": {},
     "output_type": "execute_result"
    }
   ],
   "source": [
    "type(var1)"
   ]
  },
  {
   "cell_type": "code",
   "execution_count": 11,
   "id": "ebadda91-f5f7-4b7b-a7ef-64946b6ab5b4",
   "metadata": {},
   "outputs": [],
   "source": [
    "var2 = '[ DS , ML , Python]'"
   ]
  },
  {
   "cell_type": "code",
   "execution_count": 12,
   "id": "66a0df81-a3c7-40f0-83db-198225809c11",
   "metadata": {},
   "outputs": [
    {
     "data": {
      "text/plain": [
       "str"
      ]
     },
     "execution_count": 12,
     "metadata": {},
     "output_type": "execute_result"
    }
   ],
   "source": [
    "type(var2)"
   ]
  },
  {
   "cell_type": "code",
   "execution_count": 13,
   "id": "b6f66d5c-9591-48fe-a5ce-32f931ecd94c",
   "metadata": {},
   "outputs": [],
   "source": [
    "var3 = ['DS' , 'ML' , 'Python']"
   ]
  },
  {
   "cell_type": "code",
   "execution_count": 14,
   "id": "799b3bbb-fd1e-4154-97cb-baab74946805",
   "metadata": {},
   "outputs": [
    {
     "data": {
      "text/plain": [
       "list"
      ]
     },
     "execution_count": 14,
     "metadata": {},
     "output_type": "execute_result"
    }
   ],
   "source": [
    "type(var3)"
   ]
  },
  {
   "cell_type": "code",
   "execution_count": 15,
   "id": "104ffadc-3a1d-4339-9f3d-b3dce0cf9e83",
   "metadata": {},
   "outputs": [],
   "source": [
    "var4 = 1."
   ]
  },
  {
   "cell_type": "code",
   "execution_count": 16,
   "id": "bf515500-bc11-44bd-9964-9fa184e9371d",
   "metadata": {},
   "outputs": [
    {
     "data": {
      "text/plain": [
       "float"
      ]
     },
     "execution_count": 16,
     "metadata": {},
     "output_type": "execute_result"
    }
   ],
   "source": [
    "type(var4)"
   ]
  },
  {
   "cell_type": "code",
   "execution_count": null,
   "id": "6071f3c8-6a8d-440a-8fa6-9fc5069f5628",
   "metadata": {},
   "outputs": [],
   "source": [
    "#Q3. Explain the use of the following operators using an example:"
   ]
  },
  {
   "cell_type": "code",
   "execution_count": 17,
   "id": "c4efcbd0-7007-4380-880e-7d7deafbc800",
   "metadata": {},
   "outputs": [
    {
     "data": {
      "text/plain": [
       "5.0"
      ]
     },
     "execution_count": 17,
     "metadata": {},
     "output_type": "execute_result"
    }
   ],
   "source": [
    "10/2"
   ]
  },
  {
   "cell_type": "code",
   "execution_count": 18,
   "id": "bed0a998-ff89-4516-92f9-43e4bb1a257e",
   "metadata": {},
   "outputs": [
    {
     "data": {
      "text/plain": [
       "0"
      ]
     },
     "execution_count": 18,
     "metadata": {},
     "output_type": "execute_result"
    }
   ],
   "source": [
    "10%2"
   ]
  },
  {
   "cell_type": "code",
   "execution_count": 20,
   "id": "4e254341-701c-4804-9581-c3ba737f8035",
   "metadata": {},
   "outputs": [
    {
     "data": {
      "text/plain": [
       "100"
      ]
     },
     "execution_count": 20,
     "metadata": {},
     "output_type": "execute_result"
    }
   ],
   "source": [
    "10**2"
   ]
  },
  {
   "cell_type": "code",
   "execution_count": 19,
   "id": "15244e43-2182-425a-a31a-ba13c3634c9a",
   "metadata": {},
   "outputs": [
    {
     "data": {
      "text/plain": [
       "5"
      ]
     },
     "execution_count": 19,
     "metadata": {},
     "output_type": "execute_result"
    }
   ],
   "source": [
    "10//2"
   ]
  },
  {
   "cell_type": "code",
   "execution_count": null,
   "id": "ddf80406-ed08-4ea9-ae7c-a394d7b8c029",
   "metadata": {},
   "outputs": [],
   "source": [
    "#Q4. Create a list of length 10 of your choice containing multiple types of data. Using for loop print the element and its data type."
   ]
  },
  {
   "cell_type": "code",
   "execution_count": 21,
   "id": "314c308b-5da1-4986-bc15-0978649749f1",
   "metadata": {},
   "outputs": [
    {
     "name": "stdout",
     "output_type": "stream",
     "text": [
      "10\n",
      "<class 'int'>\n",
      "20\n",
      "<class 'int'>\n",
      "30\n",
      "<class 'int'>\n",
      "40\n",
      "<class 'int'>\n",
      "True\n",
      "<class 'bool'>\n",
      "23.43\n",
      "<class 'float'>\n",
      "(4+5j)\n",
      "<class 'complex'>\n",
      "Avash\n",
      "<class 'str'>\n",
      "False\n",
      "<class 'bool'>\n",
      "Panda\n",
      "<class 'str'>\n"
     ]
    }
   ],
   "source": [
    "abc = [10,20,30,40,True,23.43,4+5j,'Avash',False,\"Panda\"]\n",
    "for i in abc:\n",
    "    print(i)\n",
    "    print(type(i))"
   ]
  },
  {
   "cell_type": "code",
   "execution_count": null,
   "id": "d76fb6d4-a7f7-4380-924a-124f04abae20",
   "metadata": {},
   "outputs": [],
   "source": [
    "#Q5. Using a while loop, verify if the number A is purely divisible by number B and if so then how many times it can be divisible."
   ]
  },
  {
   "cell_type": "code",
   "execution_count": 7,
   "id": "91caea39-1cd9-412b-bb39-5949edfd7e3f",
   "metadata": {},
   "outputs": [
    {
     "name": "stdin",
     "output_type": "stream",
     "text": [
      " 80\n",
      " 4\n"
     ]
    },
    {
     "name": "stdout",
     "output_type": "stream",
     "text": [
      "A is divisible by B\n",
      "A is divisible by B\n",
      "A is not divisible by B\n"
     ]
    }
   ],
   "source": [
    "A = int(input())\n",
    "B = int(input())\n",
    "while A%B==0:\n",
    "    print(\"A is divisible by B\")\n",
    "    A = A//B\n",
    "else:\n",
    "    print(\"A is not divisible by B\")"
   ]
  },
  {
   "cell_type": "code",
   "execution_count": null,
   "id": "bbfcac49-7978-4185-bb24-c34312d88c0d",
   "metadata": {},
   "outputs": [],
   "source": [
    "#Q6. Create a list containing 25 int type data. Using for loop and if-else condition print if the element is divisible by 3 or not."
   ]
  },
  {
   "cell_type": "code",
   "execution_count": 10,
   "id": "a24d36bd-6f0d-4047-9c4d-71f15f190f64",
   "metadata": {},
   "outputs": [
    {
     "name": "stdout",
     "output_type": "stream",
     "text": [
      "1\n",
      "2\n",
      "3\n",
      "Above number is divisible by 3\n",
      "4\n",
      "5\n",
      "6\n",
      "Above number is divisible by 3\n",
      "7\n",
      "8\n",
      "9\n",
      "Above number is divisible by 3\n",
      "10\n",
      "11\n",
      "12\n",
      "Above number is divisible by 3\n",
      "13\n",
      "14\n",
      "15\n",
      "Above number is divisible by 3\n",
      "16\n",
      "17\n",
      "18\n",
      "Above number is divisible by 3\n",
      "19\n",
      "20\n",
      "21\n",
      "Above number is divisible by 3\n",
      "22\n",
      "23\n",
      "24\n",
      "Above number is divisible by 3\n",
      "25\n",
      "Above number is not divisible by 3\n"
     ]
    }
   ],
   "source": [
    "l = [1,2,3,4,5,6,7,8,9,10,11,12,13,14,15,16,17,18,19,20,21,22,23,24,25]\n",
    "for i in l:\n",
    "    print(i)\n",
    "    if i%3==0:\n",
    "        print(\"Above number is divisible by 3\")   \n",
    "else:\n",
    "    print(\"Above number is not divisible by 3\")"
   ]
  },
  {
   "cell_type": "code",
   "execution_count": null,
   "id": "7e867867-1904-40ab-bb0c-f418cdbae19d",
   "metadata": {},
   "outputs": [],
   "source": [
    "#Q7. What do you understand about mutable and immutable data types? Give examples for both showing this property."
   ]
  },
  {
   "cell_type": "code",
   "execution_count": 12,
   "id": "7ca11a7c-bed3-4450-a4fc-4d9de698950c",
   "metadata": {},
   "outputs": [],
   "source": [
    "a = \"Avash\""
   ]
  },
  {
   "cell_type": "code",
   "execution_count": 13,
   "id": "7f828993-42d6-47b3-bb1d-a97438ad3c72",
   "metadata": {},
   "outputs": [
    {
     "data": {
      "text/plain": [
       "'a'"
      ]
     },
     "execution_count": 13,
     "metadata": {},
     "output_type": "execute_result"
    }
   ],
   "source": [
    "a[2] "
   ]
  },
  {
   "cell_type": "code",
   "execution_count": 15,
   "id": "3796fe4d-dbf0-408a-944f-e688b99d7962",
   "metadata": {},
   "outputs": [
    {
     "ename": "TypeError",
     "evalue": "'str' object does not support item assignment",
     "output_type": "error",
     "traceback": [
      "\u001b[0;31m---------------------------------------------------------------------------\u001b[0m",
      "\u001b[0;31mTypeError\u001b[0m                                 Traceback (most recent call last)",
      "Cell \u001b[0;32mIn[15], line 1\u001b[0m\n\u001b[0;32m----> 1\u001b[0m \u001b[43ma\u001b[49m\u001b[43m[\u001b[49m\u001b[38;5;241;43m2\u001b[39;49m\u001b[43m]\u001b[49m \u001b[38;5;241m=\u001b[39m \u001b[38;5;124m'\u001b[39m\u001b[38;5;124me\u001b[39m\u001b[38;5;124m'\u001b[39m\n",
      "\u001b[0;31mTypeError\u001b[0m: 'str' object does not support item assignment"
     ]
    }
   ],
   "source": [
    "a[2] = 'e'"
   ]
  },
  {
   "cell_type": "code",
   "execution_count": 16,
   "id": "05aa8166-1e81-4e7e-af2d-a6295166a6c8",
   "metadata": {},
   "outputs": [],
   "source": [
    "# As string is immutable, so we can't replace element."
   ]
  },
  {
   "cell_type": "code",
   "execution_count": 17,
   "id": "a52c6cb5-a4c8-457f-889c-adfd481cd2a4",
   "metadata": {},
   "outputs": [],
   "source": [
    "b = [1,2,3,\"Avash\",False, 3+5j,56.45]"
   ]
  },
  {
   "cell_type": "code",
   "execution_count": 18,
   "id": "5992eb2e-65aa-4fb5-a6ee-48f78d9aceaa",
   "metadata": {},
   "outputs": [
    {
     "data": {
      "text/plain": [
       "'Avash'"
      ]
     },
     "execution_count": 18,
     "metadata": {},
     "output_type": "execute_result"
    }
   ],
   "source": [
    "b[3]"
   ]
  },
  {
   "cell_type": "code",
   "execution_count": 19,
   "id": "654157cf-4bfc-469d-a992-f3784b4e6588",
   "metadata": {},
   "outputs": [],
   "source": [
    "b[3] = \"Panda\""
   ]
  },
  {
   "cell_type": "code",
   "execution_count": 20,
   "id": "2f4c5c86-c871-4403-bf71-f04a927b94bb",
   "metadata": {},
   "outputs": [
    {
     "data": {
      "text/plain": [
       "[1, 2, 3, 'Panda', False, (3+5j), 56.45]"
      ]
     },
     "execution_count": 20,
     "metadata": {},
     "output_type": "execute_result"
    }
   ],
   "source": [
    "b"
   ]
  },
  {
   "cell_type": "code",
   "execution_count": null,
   "id": "2c2745be-a2c8-4f5b-8d06-015b8d5bf3cf",
   "metadata": {},
   "outputs": [],
   "source": [
    "# As list is mutable, so we can replace Panda with Avash."
   ]
  }
 ],
 "metadata": {
  "kernelspec": {
   "display_name": "Python 3 (ipykernel)",
   "language": "python",
   "name": "python3"
  },
  "language_info": {
   "codemirror_mode": {
    "name": "ipython",
    "version": 3
   },
   "file_extension": ".py",
   "mimetype": "text/x-python",
   "name": "python",
   "nbconvert_exporter": "python",
   "pygments_lexer": "ipython3",
   "version": "3.10.8"
  }
 },
 "nbformat": 4,
 "nbformat_minor": 5
}
